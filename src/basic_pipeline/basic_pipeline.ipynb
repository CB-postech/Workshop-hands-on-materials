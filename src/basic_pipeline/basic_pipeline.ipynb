{
 "cells": [
  {
   "cell_type": "markdown",
   "id": "17f98cd9",
   "metadata": {},
   "source": [
    "# Basic Pipeline\n",
    "\n",
    "2025-07-22"
   ]
  },
  {
   "cell_type": "code",
   "execution_count": 2,
   "id": "829e4689",
   "metadata": {
    "tags": [
     "skip-output"
    ],
    "vscode": {
     "languageId": "r"
    }
   },
   "outputs": [],
   "source": [
    "library(Seurat)\n",
    "library(harmony)\n",
    "library(ggplot2)\n",
    "set.seed(42) # for reproducibility\n",
    "\n",
    "save_path = \"basic_pipeline\""
   ]
  },
  {
   "cell_type": "markdown",
   "id": "786fa2c6",
   "metadata": {},
   "source": [
    "## Load data\n",
    "\n",
    "The data used in this example is from the paper [Sikkema, L. et al. (2023)](https://doi.org/10.1038/s41591-023-02327-2).\n",
    "This data can be accessed through this [collection](https://cellxgene.cziscience.com/collections/6f6d381a-7701-4781-935c-db10d30de293) on the Cellxgene platform. \n",
    "In this example however, we will use the sampled version of this data. \n",
    "Therefore, we set `min.cells` and `min.features` to 0, avoiding any further filtering."
   ]
  },
  {
   "cell_type": "code",
   "execution_count": null,
   "id": "bfe95c3f",
   "metadata": {
    "tags": [
     "skip-output"
    ],
    "vscode": {
     "languageId": "r"
    }
   },
   "outputs": [
    {
     "name": "stderr",
     "output_type": "stream",
     "text": [
      "Warning message:\n",
      "“Data is of class data.frame. Coercing to dgCMatrix.”\n"
     ]
    }
   ],
   "source": [
    "count_matrix <- read.csv(\"/BiO/data/process/basic_pipeline_data/HLCA_pulmonary_fibrosis_immune_raw.csv\", row.names = 1)\n",
    "meta.data <- read.csv(\"/BiO/data/process/basic_pipeline_data/HLCA_pulmonary_fibrosis_immune_meta.csv\", row.names = 1)\n",
    "\n",
    "# so stands for 's'eurat 'o'bject \n",
    "so <- CreateSeuratObject(counts = count_matrix, meta.data = meta.data, assay = \"RNA\", min.cells = 0, min.features = 0, project = \"HLCA_Pulmonary_Fibrosis_immune\")\n",
    "# genes are in rows, cells are in columns\n",
    "\n"
   ]
  },
  {
   "cell_type": "code",
   "execution_count": 5,
   "id": "8493a1ed",
   "metadata": {
    "vscode": {
     "languageId": "r"
    }
   },
   "outputs": [
    {
     "name": "stdout",
     "output_type": "stream",
     "text": [
      "                                                     orig.ident nCount_RNA\n",
      "F01173_GCTGGGTTCCTGTAGA_haberman HLCA_Pulmonary_Fibrosis_immune       5525\n",
      "F00431_CTAGAGTCATGCCACG_haberman HLCA_Pulmonary_Fibrosis_immune       2784\n",
      "F01172_AGTAGTCGTCCGACGT_haberman HLCA_Pulmonary_Fibrosis_immune       1617\n",
      "                                 nFeature_RNA            disease\n",
      "F01173_GCTGGGTTCCTGTAGA_haberman         1877 pulmonary fibrosis\n",
      "F00431_CTAGAGTCATGCCACG_haberman         1017 pulmonary fibrosis\n",
      "F01172_AGTAGTCGTCCGACGT_haberman         1012 pulmonary fibrosis\n",
      "                                                 study\n",
      "F01173_GCTGGGTTCCTGTAGA_haberman Banovich_Kropski_2020\n",
      "F00431_CTAGAGTCATGCCACG_haberman Banovich_Kropski_2020\n",
      "F01172_AGTAGTCGTCCGACGT_haberman Banovich_Kropski_2020\n"
     ]
    }
   ],
   "source": [
    "print(head(so, n = 3))"
   ]
  },
  {
   "cell_type": "markdown",
   "id": "be305ef6",
   "metadata": {},
   "source": [
    "### Seurat style\n",
    "\n",
    "In seurat, we can perform normalization like below."
   ]
  },
  {
   "cell_type": "code",
   "execution_count": null,
   "id": "449bd17b",
   "metadata": {
    "vscode": {
     "languageId": "r"
    }
   },
   "outputs": [],
   "source": [
    "so <- NormalizeData(so)"
   ]
  },
  {
   "cell_type": "markdown",
   "id": "4a9ccd0b",
   "metadata": {},
   "source": [
    "### Scran style\n",
    "\n",
    "In scran, we first convert the object to a `SingleCellExperiment` object and perform normalization by:\n",
    "\n",
    "1. clustering cells using `quickCluster()`\n",
    "2. calculating cell-specific size factors using `computeSumFactors()`\n",
    "3. dividing counts of each cell by its size factor, and log2-transforming with a pseudocount of 1 using `logNormCounts()`\n",
    "\n",
    "Then, we convert the `SingleCellExperiment` object back to a `Seurat` object."
   ]
  },
  {
   "cell_type": "code",
   "execution_count": null,
   "id": "60ef0347",
   "metadata": {
    "tags": [
     "skip-output"
    ],
    "vscode": {
     "languageId": "r"
    }
   },
   "outputs": [
    {
     "name": "stderr",
     "output_type": "stream",
     "text": [
      "Warning message:\n",
      "“Layer ‘data’ is empty”\n",
      "Warning message:\n",
      "“Layer ‘scale.data’ is empty”\n"
     ]
    }
   ],
   "source": [
    "library(scran)\n",
    "library(scater)\n",
    "\n",
    "sce <- as.SingleCellExperiment(so)\n",
    "\n",
    "clusters <- quickCluster(sce)\n",
    "sce <- computeSumFactors(sce, clusters = clusters)\n",
    "sce.norm <- logNormCounts(sce,  pseudo_count = 1)\n",
    "so <- as.Seurat(sce.norm, counts = \"counts\", data = \"logcounts\")"
   ]
  },
  {
   "cell_type": "markdown",
   "id": "e094181e",
   "metadata": {},
   "source": [
    "## Batch-aware feature selection"
   ]
  },
  {
   "cell_type": "code",
   "execution_count": null,
   "id": "e805448d",
   "metadata": {
    "vscode": {
     "languageId": "r"
    }
   },
   "outputs": [],
   "source": []
  }
 ],
 "metadata": {
  "kernelspec": {
   "display_name": "R",
   "language": "R",
   "name": "ir"
  },
  "language_info": {
   "codemirror_mode": "r",
   "file_extension": ".r",
   "mimetype": "text/x-r-source",
   "name": "R",
   "pygments_lexer": "r",
   "version": "4.3.1"
  }
 },
 "nbformat": 4,
 "nbformat_minor": 5
}

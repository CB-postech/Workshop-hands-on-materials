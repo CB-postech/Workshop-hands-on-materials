{
 "cells": [
  {
   "cell_type": "markdown",
   "id": "27b3bbf2",
   "metadata": {
    "vscode": {
     "languageId": "r"
    }
   },
   "source": [
    "# QC1: DropletUtils\n",
    "\n",
    "2025-07-22\n"
   ]
  },
  {
   "cell_type": "markdown",
   "id": "a92e2b10",
   "metadata": {},
   "source": [
    "## Remove empty droplets\n",
    "\n",
    "Many droplets are empty, mainly consisted of ambient RNA.\n",
    "\n",
    "We have to filter out these droplets.\n",
    "\n",
    "\n",
    "1. Construct an ambient pool by summing up UMIs from low-count droplet\n",
    "2. Test the possibility that ambient RNA accidentally generated this droplet profile\n",
    "These process are wrapped up by package DropletUtils"
   ]
  },
  {
   "cell_type": "code",
   "execution_count": 1,
   "id": "c7fb88e8",
   "metadata": {
    "tags": [
     "skip-output"
    ],
    "vscode": {
     "languageId": "r"
    }
   },
   "outputs": [
    {
     "name": "stderr",
     "output_type": "stream",
     "text": [
      "Warning message:\n",
      "“package ‘Seurat’ was built under R version 4.3.2”\n",
      "Loading required package: SeuratObject\n",
      "\n",
      "Loading required package: sp\n",
      "\n",
      "Warning message:\n",
      "“package ‘sp’ was built under R version 4.3.3”\n",
      "\n",
      "Attaching package: ‘SeuratObject’\n",
      "\n",
      "\n",
      "The following object is masked from ‘package:base’:\n",
      "\n",
      "    intersect\n",
      "\n",
      "\n",
      "Warning message:\n",
      "“package ‘scater’ was built under R version 4.3.2”\n",
      "Loading required package: SingleCellExperiment\n",
      "\n",
      "Warning message:\n",
      "“package ‘SingleCellExperiment’ was built under R version 4.3.2”\n",
      "Loading required package: SummarizedExperiment\n",
      "\n",
      "Warning message:\n",
      "“package ‘SummarizedExperiment’ was built under R version 4.3.2”\n",
      "Loading required package: MatrixGenerics\n",
      "\n",
      "Warning message:\n",
      "“package ‘MatrixGenerics’ was built under R version 4.3.3”\n",
      "Loading required package: matrixStats\n",
      "\n",
      "Warning message:\n",
      "“package ‘matrixStats’ was built under R version 4.3.3”\n",
      "\n",
      "Attaching package: ‘MatrixGenerics’\n",
      "\n",
      "\n",
      "The following objects are masked from ‘package:matrixStats’:\n",
      "\n",
      "    colAlls, colAnyNAs, colAnys, colAvgsPerRowSet, colCollapse,\n",
      "    colCounts, colCummaxs, colCummins, colCumprods, colCumsums,\n",
      "    colDiffs, colIQRDiffs, colIQRs, colLogSumExps, colMadDiffs,\n",
      "    colMads, colMaxs, colMeans2, colMedians, colMins, colOrderStats,\n",
      "    colProds, colQuantiles, colRanges, colRanks, colSdDiffs, colSds,\n",
      "    colSums2, colTabulates, colVarDiffs, colVars, colWeightedMads,\n",
      "    colWeightedMeans, colWeightedMedians, colWeightedSds,\n",
      "    colWeightedVars, rowAlls, rowAnyNAs, rowAnys, rowAvgsPerColSet,\n",
      "    rowCollapse, rowCounts, rowCummaxs, rowCummins, rowCumprods,\n",
      "    rowCumsums, rowDiffs, rowIQRDiffs, rowIQRs, rowLogSumExps,\n",
      "    rowMadDiffs, rowMads, rowMaxs, rowMeans2, rowMedians, rowMins,\n",
      "    rowOrderStats, rowProds, rowQuantiles, rowRanges, rowRanks,\n",
      "    rowSdDiffs, rowSds, rowSums2, rowTabulates, rowVarDiffs, rowVars,\n",
      "    rowWeightedMads, rowWeightedMeans, rowWeightedMedians,\n",
      "    rowWeightedSds, rowWeightedVars\n",
      "\n",
      "\n",
      "Loading required package: GenomicRanges\n",
      "\n",
      "Warning message:\n",
      "“package ‘GenomicRanges’ was built under R version 4.3.3”\n",
      "Loading required package: stats4\n",
      "\n",
      "Loading required package: BiocGenerics\n",
      "\n",
      "Warning message:\n",
      "“package ‘BiocGenerics’ was built under R version 4.3.2”\n",
      "\n",
      "Attaching package: ‘BiocGenerics’\n",
      "\n",
      "\n",
      "The following object is masked from ‘package:SeuratObject’:\n",
      "\n",
      "    intersect\n",
      "\n",
      "\n",
      "The following objects are masked from ‘package:stats’:\n",
      "\n",
      "    IQR, mad, sd, var, xtabs\n",
      "\n",
      "\n",
      "The following objects are masked from ‘package:base’:\n",
      "\n",
      "    anyDuplicated, aperm, append, as.data.frame, basename, cbind,\n",
      "    colnames, dirname, do.call, duplicated, eval, evalq, Filter, Find,\n",
      "    get, grep, grepl, intersect, is.unsorted, lapply, Map, mapply,\n",
      "    match, mget, order, paste, pmax, pmax.int, pmin, pmin.int,\n",
      "    Position, rank, rbind, Reduce, rownames, sapply, setdiff, sort,\n",
      "    table, tapply, union, unique, unsplit, which.max, which.min\n",
      "\n",
      "\n",
      "Loading required package: S4Vectors\n",
      "\n",
      "Warning message:\n",
      "“package ‘S4Vectors’ was built under R version 4.3.3”\n",
      "\n",
      "Attaching package: ‘S4Vectors’\n",
      "\n",
      "\n",
      "The following object is masked from ‘package:utils’:\n",
      "\n",
      "    findMatches\n",
      "\n",
      "\n",
      "The following objects are masked from ‘package:base’:\n",
      "\n",
      "    expand.grid, I, unname\n",
      "\n",
      "\n",
      "Loading required package: IRanges\n",
      "\n",
      "Warning message:\n",
      "“package ‘IRanges’ was built under R version 4.3.3”\n",
      "\n",
      "Attaching package: ‘IRanges’\n",
      "\n",
      "\n",
      "The following object is masked from ‘package:sp’:\n",
      "\n",
      "    %over%\n",
      "\n",
      "\n",
      "Loading required package: GenomeInfoDb\n",
      "\n",
      "Warning message:\n",
      "“package ‘GenomeInfoDb’ was built under R version 4.3.2”\n",
      "Loading required package: Biobase\n",
      "\n",
      "Warning message:\n",
      "“package ‘Biobase’ was built under R version 4.3.3”\n",
      "Welcome to Bioconductor\n",
      "\n",
      "    Vignettes contain introductory material; view with\n",
      "    'browseVignettes()'. To cite Bioconductor, see\n",
      "    'citation(\"Biobase\")', and for packages 'citation(\"pkgname\")'.\n",
      "\n",
      "\n",
      "\n",
      "Attaching package: ‘Biobase’\n",
      "\n",
      "\n",
      "The following object is masked from ‘package:MatrixGenerics’:\n",
      "\n",
      "    rowMedians\n",
      "\n",
      "\n",
      "The following objects are masked from ‘package:matrixStats’:\n",
      "\n",
      "    anyMissing, rowMedians\n",
      "\n",
      "\n",
      "\n",
      "Attaching package: ‘SummarizedExperiment’\n",
      "\n",
      "\n",
      "The following object is masked from ‘package:Seurat’:\n",
      "\n",
      "    Assays\n",
      "\n",
      "\n",
      "The following object is masked from ‘package:SeuratObject’:\n",
      "\n",
      "    Assays\n",
      "\n",
      "\n",
      "Loading required package: scuttle\n",
      "\n",
      "Warning message:\n",
      "“package ‘scuttle’ was built under R version 4.3.3”\n",
      "Loading required package: ggplot2\n",
      "\n",
      "Warning message:\n",
      "“package ‘ggplot2’ was built under R version 4.3.3”\n",
      "Warning message:\n",
      "“package ‘DropletUtils’ was built under R version 4.3.2”\n",
      "Warning message:\n",
      "“package ‘scran’ was built under R version 4.3.3”\n"
     ]
    }
   ],
   "source": [
    "library(Seurat)\n",
    "library(scater)\n",
    "library(DropletUtils)\n",
    "library(scran)\n",
    "library(ggplot2)\n",
    "\n",
    "set.seed(42) # for reproducibility\n",
    "\n",
    "rdatadir = \"/BiO/data/QC/\"\n",
    "save_path = \"QC1\"\n",
    "\n",
    "if (!dir.exists(save_path)) {\n",
    "  dir.create(save_path)\n",
    "}\n"
   ]
  },
  {
   "cell_type": "markdown",
   "id": "3b3315d8",
   "metadata": {},
   "source": [
    "### Load data"
   ]
  },
  {
   "cell_type": "code",
   "execution_count": 2,
   "id": "c78be1ac",
   "metadata": {
    "vscode": {
     "languageId": "r"
    }
   },
   "outputs": [],
   "source": [
    "rawsce_1 <- read10xCounts(paste0(rdatadir, \"20094_0001_A_B/raw_feature_bc_matrix\"), type = \"sparse\", compressed = TRUE)\n",
    "rawsce_2 <- read10xCounts(paste0(rdatadir, \"20094_0002_A_B/raw_feature_bc_matrix\"), type = \"sparse\", compressed = TRUE)\n",
    "rawsce_3 <- read10xCounts(paste0(rdatadir, \"20094_0003_A_B/raw_feature_bc_matrix\"), type = \"sparse\", compressed = TRUE)\n",
    "rawsce_4 <- read10xCounts(paste0(rdatadir, \"20094_0004_A_B/raw_feature_bc_matrix\"), type = \"sparse\", compressed = TRUE)\n",
    "rawsce_5 <- read10xCounts(paste0(rdatadir, \"20094_0005_A_B/raw_feature_bc_matrix\"), type = \"sparse\", compressed = TRUE)\n",
    "rawsce_6 <- read10xCounts(paste0(rdatadir, \"20094_0006_A_B/raw_feature_bc_matrix\"), type = \"sparse\", compressed = TRUE)\n",
    "rawsce_7 <- read10xCounts(paste0(rdatadir, \"20094_0007_A_B/raw_feature_bc_matrix\"), type = \"sparse\", compressed = TRUE)\n",
    "rawsce_8 <- read10xCounts(paste0(rdatadir, \"20094_0008_A_B/raw_feature_bc_matrix\"), type = \"sparse\", compressed = TRUE)\n",
    "rawsce_9 <- read10xCounts(paste0(rdatadir, \"20094_0009_A_B/raw_feature_bc_matrix\"), type = \"sparse\", compressed = TRUE)\n",
    "rawsce_12 <- read10xCounts(paste0(rdatadir, \"20094_0012_A_B/raw_feature_bc_matrix\"), type = \"sparse\", compressed = TRUE)"
   ]
  },
  {
   "cell_type": "markdown",
   "id": "98874aaa",
   "metadata": {},
   "source": [
    "### Examine and check the data"
   ]
  },
  {
   "cell_type": "code",
   "execution_count": 3,
   "id": "818e32d0",
   "metadata": {
    "vscode": {
     "languageId": "r"
    }
   },
   "outputs": [
    {
     "data": {
      "text/plain": [
       "class: SingleCellExperiment \n",
       "dim: 36604 6794880 \n",
       "metadata(1): Samples\n",
       "assays(1): counts\n",
       "rownames(36604): ENSG00000243485 ENSG00000237613 ... Htag2 Htag3\n",
       "rowData names(3): ID Symbol Type\n",
       "colnames: NULL\n",
       "colData names(2): Sample Barcode\n",
       "reducedDimNames(0):\n",
       "mainExpName: NULL\n",
       "altExpNames(0):"
      ]
     },
     "metadata": {},
     "output_type": "display_data"
    }
   ],
   "source": [
    "rawsce_1"
   ]
  },
  {
   "cell_type": "code",
   "execution_count": 4,
   "id": "a4577b55",
   "metadata": {
    "vscode": {
     "languageId": "r"
    }
   },
   "outputs": [],
   "source": [
    "rawsce_list <- c('rawsce_1', 'rawsce_2', 'rawsce_3', 'rawsce_4', 'rawsce_5',\n",
    "                 'rawsce_6', 'rawsce_7', 'rawsce_8', 'rawsce_9', 'rawsce_12')"
   ]
  },
  {
   "cell_type": "code",
   "execution_count": 5,
   "id": "f1b6d7a7",
   "metadata": {
    "vscode": {
     "languageId": "r"
    }
   },
   "outputs": [
    {
     "name": "stdout",
     "output_type": "stream",
     "text": [
      "       Limited\n",
      "Sig     FALSE  TRUE\n",
      "  FALSE 65019     0\n",
      "  TRUE   5346  7150\n",
      "[1] 12496\n"
     ]
    },
    {
     "name": "stderr",
     "output_type": "stream",
     "text": [
      "Warning message in scale_y_continuous(trans = \"log10\"):\n",
      "“\u001b[1m\u001b[22m\u001b[32mlog-10\u001b[39m transformation introduced infinite values.”\n"
     ]
    },
    {
     "name": "stdout",
     "output_type": "stream",
     "text": [
      "       Limited\n",
      "Sig     FALSE  TRUE\n",
      "  FALSE 75152     0\n",
      "  TRUE   1496  5808\n",
      "[1] 7304\n"
     ]
    },
    {
     "name": "stderr",
     "output_type": "stream",
     "text": [
      "Warning message in scale_y_continuous(trans = \"log10\"):\n",
      "“\u001b[1m\u001b[22m\u001b[32mlog-10\u001b[39m transformation introduced infinite values.”\n"
     ]
    },
    {
     "name": "stdout",
     "output_type": "stream",
     "text": [
      "       Limited\n",
      "Sig     FALSE  TRUE\n",
      "  FALSE 68606     0\n",
      "  TRUE    734  5776\n",
      "[1] 6510\n"
     ]
    },
    {
     "name": "stderr",
     "output_type": "stream",
     "text": [
      "Warning message in scale_y_continuous(trans = \"log10\"):\n",
      "“\u001b[1m\u001b[22m\u001b[32mlog-10\u001b[39m transformation introduced infinite values.”\n"
     ]
    },
    {
     "name": "stdout",
     "output_type": "stream",
     "text": [
      "       Limited\n",
      "Sig     FALSE  TRUE\n",
      "  FALSE 30930     0\n",
      "  TRUE    623  3873\n",
      "[1] 4496\n"
     ]
    },
    {
     "name": "stderr",
     "output_type": "stream",
     "text": [
      "Warning message in scale_y_continuous(trans = \"log10\"):\n",
      "“\u001b[1m\u001b[22m\u001b[32mlog-10\u001b[39m transformation introduced infinite values.”\n"
     ]
    },
    {
     "name": "stdout",
     "output_type": "stream",
     "text": [
      "       Limited\n",
      "Sig     FALSE  TRUE\n",
      "  FALSE 10692     0\n",
      "  TRUE    492  3604\n",
      "[1] 4096\n"
     ]
    },
    {
     "name": "stderr",
     "output_type": "stream",
     "text": [
      "Warning message in scale_y_continuous(trans = \"log10\"):\n",
      "“\u001b[1m\u001b[22m\u001b[32mlog-10\u001b[39m transformation introduced infinite values.”\n"
     ]
    },
    {
     "name": "stdout",
     "output_type": "stream",
     "text": [
      "       Limited\n",
      "Sig     FALSE  TRUE\n",
      "  FALSE 25085     0\n",
      "  TRUE    447  2199\n",
      "[1] 2646\n"
     ]
    },
    {
     "name": "stderr",
     "output_type": "stream",
     "text": [
      "Warning message in scale_y_continuous(trans = \"log10\"):\n",
      "“\u001b[1m\u001b[22m\u001b[32mlog-10\u001b[39m transformation introduced infinite values.”\n"
     ]
    },
    {
     "name": "stdout",
     "output_type": "stream",
     "text": [
      "       Limited\n",
      "Sig     FALSE  TRUE\n",
      "  FALSE 14109     0\n",
      "  TRUE    206  1793\n",
      "[1] 1999\n"
     ]
    },
    {
     "name": "stderr",
     "output_type": "stream",
     "text": [
      "Warning message in scale_y_continuous(trans = \"log10\"):\n",
      "“\u001b[1m\u001b[22m\u001b[32mlog-10\u001b[39m transformation introduced infinite values.”\n"
     ]
    },
    {
     "name": "stdout",
     "output_type": "stream",
     "text": [
      "       Limited\n",
      "Sig     FALSE  TRUE\n",
      "  FALSE 68935     0\n",
      "  TRUE    866  4255\n",
      "[1] 5121\n"
     ]
    },
    {
     "name": "stderr",
     "output_type": "stream",
     "text": [
      "Warning message in scale_y_continuous(trans = \"log10\"):\n",
      "“\u001b[1m\u001b[22m\u001b[32mlog-10\u001b[39m transformation introduced infinite values.”\n"
     ]
    },
    {
     "name": "stdout",
     "output_type": "stream",
     "text": [
      "       Limited\n",
      "Sig     FALSE  TRUE\n",
      "  FALSE 67017     0\n",
      "  TRUE    565  2312\n",
      "[1] 2877\n"
     ]
    },
    {
     "name": "stderr",
     "output_type": "stream",
     "text": [
      "Warning message in scale_y_continuous(trans = \"log10\"):\n",
      "“\u001b[1m\u001b[22m\u001b[32mlog-10\u001b[39m transformation introduced infinite values.”\n"
     ]
    },
    {
     "name": "stdout",
     "output_type": "stream",
     "text": [
      "       Limited\n",
      "Sig     FALSE  TRUE\n",
      "  FALSE 60520     0\n",
      "  TRUE    747  6398\n",
      "[1] 7145\n"
     ]
    },
    {
     "name": "stderr",
     "output_type": "stream",
     "text": [
      "Warning message in scale_y_continuous(trans = \"log10\"):\n",
      "“\u001b[1m\u001b[22m\u001b[32mlog-10\u001b[39m transformation introduced infinite values.”\n"
     ]
    }
   ],
   "source": [
    "for (i in 1:length(rawsce_list)) {\n",
    "  rawsce <- get(rawsce_list[i])\n",
    "  br.out <- barcodeRanks(counts(rawsce))\n",
    "  \n",
    "  e.out <- emptyDrops(counts(rawsce))  ## Cells that have UMI counts lower than 100 (by defualt) are empty cells.\n",
    "  print(table(Sig=e.out$FDR <= 0.05, Limited=e.out$Limited))\n",
    "\n",
    "  is.cell <- e.out$FDR <= 0.05\n",
    "  print(sum(is.cell, na.rm=TRUE))\n",
    "\n",
    "  p <- ggplot(data.frame(br.out), aes(x = rank, y = total)) + \n",
    "    geom_point() + \n",
    "    scale_x_continuous(trans = \"log10\") +\n",
    "    scale_y_continuous(trans = \"log10\") +\n",
    "    ggtitle(rawsce_list[i]) +\n",
    "    theme_classic()\n",
    "\tp <- p + \n",
    "\t\tgeom_hline(aes(yintercept = min(br.out$fitted, na.rm = TRUE),  color = \"FDR_0.05\"), linetype = \"dashed\") +\n",
    "\t\tgeom_hline(aes(yintercept = as.numeric(metadata(br.out)$knee), color = \"knee\"), linetype = \"dashed\") +\n",
    "\t\tgeom_hline(aes(yintercept = as.numeric(metadata(br.out)$inflection), color = \"inflection\"), linetype = \"dashed\") +\n",
    "\t\tscale_color_manual(name = \"Cutoffs\",\n",
    "\t\t\t\t\t\t\t\t\t\t\tvalues = c(\"FDR_0.05\" = \"red\",\n",
    "\t\t\t\t\t\t\t\t\t\t\t\t\t\t\t\t\t\"knee\" = \"dodgerblue\",\n",
    "\t\t\t\t\t\t\t\t\t\t\t\t\t\t\t\t\t\"inflection\"= \"forestgreen\")) +\n",
    "\t\ttheme(legend.position = \"bottom\")\n",
    "  ggsave(filename = paste0(save_path, '/DropletUtils_', rawsce_list[i], '.png'), plot = p, width = 6, height = 6)\n",
    "  \n",
    "  colnames(rawsce) = colData(rawsce)$Barcode\n",
    "  rawsce <- rawsce[,which(e.out$FDR <= 0.05)]\n",
    "  \n",
    "  assign(paste0('DropletUtils_', rawsce_list[i]), rawsce)\n",
    "}"
   ]
  },
  {
   "cell_type": "markdown",
   "id": "19d88fd9",
   "metadata": {},
   "source": [
    "### Save the result data"
   ]
  },
  {
   "cell_type": "code",
   "execution_count": 6,
   "id": "b9dc10e0",
   "metadata": {
    "vscode": {
     "languageId": "r"
    }
   },
   "outputs": [],
   "source": [
    "save(DropletUtils_rawsce_1, file = paste0(save_path, '/DropletUtils_filtered_sce_1.RData'))\n",
    "save(DropletUtils_rawsce_2, file = paste0(save_path, '/DropletUtils_filtered_sce_2.RData'))\n",
    "save(DropletUtils_rawsce_3, file = paste0(save_path, '/DropletUtils_filtered_sce_3.RData'))\n",
    "save(DropletUtils_rawsce_4, file = paste0(save_path, '/DropletUtils_filtered_sce_4.RData'))\n",
    "save(DropletUtils_rawsce_5, file = paste0(save_path, '/DropletUtils_filtered_sce_5.RData'))\n",
    "save(DropletUtils_rawsce_6, file = paste0(save_path, '/DropletUtils_filtered_sce_6.RData'))\n",
    "save(DropletUtils_rawsce_7, file = paste0(save_path, '/DropletUtils_filtered_sce_7.RData'))\n",
    "save(DropletUtils_rawsce_8, file = paste0(save_path, '/DropletUtils_filtered_sce_8.RData'))\n",
    "save(DropletUtils_rawsce_9, file = paste0(save_path, '/DropletUtils_filtered_sce_9.RData'))\n",
    "save(DropletUtils_rawsce_12, file = paste0(save_path, '/DropletUtils_filtered_sce_12.RData'))"
   ]
  },
  {
   "cell_type": "markdown",
   "id": "f6255ce0",
   "metadata": {},
   "source": [
    "Reference\n",
    "Lun, A. T., Riesenfeld, S., Andrews, T., Gomes, T., & Marioni, J. C. (2019). EmptyDrops: distinguishing cells from empty droplets in droplet-based single-cell RNA sequencing data. Genome biology, 20(1), 1-9.\n",
    "\n",
    "Pekayvaz, K., Leunig, A., Kaiser, R., Joppich, M., Brambs, S., Janjic, A., ... & Nicolai, L. (2022). Protective immune trajectories in early viral containment of non-pneumonic SARS-CoV-2 infection. Nature communications, 13(1), 1-21."
   ]
  },
  {
   "cell_type": "code",
   "execution_count": 7,
   "id": "a2832feb",
   "metadata": {
    "tags": [
     "skip"
    ],
    "vscode": {
     "languageId": "r"
    }
   },
   "outputs": [
    {
     "data": {
      "text/plain": [
       "R version 4.3.1 (2023-06-16)\n",
       "Platform: x86_64-conda-linux-gnu (64-bit)\n",
       "Running under: Ubuntu 24.04.2 LTS\n",
       "\n",
       "Matrix products: default\n",
       "BLAS/LAPACK: /BiO/prog/miniforge3/envs/QC/lib/libopenblasp-r0.3.30.so;  LAPACK version 3.12.0\n",
       "\n",
       "locale:\n",
       " [1] LC_CTYPE=en_US.UTF-8       LC_NUMERIC=C              \n",
       " [3] LC_TIME=en_US.UTF-8        LC_COLLATE=en_US.UTF-8    \n",
       " [5] LC_MONETARY=en_US.UTF-8    LC_MESSAGES=en_US.UTF-8   \n",
       " [7] LC_PAPER=en_US.UTF-8       LC_NAME=C                 \n",
       " [9] LC_ADDRESS=C               LC_TELEPHONE=C            \n",
       "[11] LC_MEASUREMENT=en_US.UTF-8 LC_IDENTIFICATION=C       \n",
       "\n",
       "time zone: Asia/Seoul\n",
       "tzcode source: system (glibc)\n",
       "\n",
       "attached base packages:\n",
       "[1] stats4    stats     graphics  grDevices utils     datasets  methods  \n",
       "[8] base     \n",
       "\n",
       "other attached packages:\n",
       " [1] scran_1.30.0                DropletUtils_1.22.0        \n",
       " [3] scater_1.30.1               ggplot2_3.5.2              \n",
       " [5] scuttle_1.12.0              SingleCellExperiment_1.24.0\n",
       " [7] SummarizedExperiment_1.32.0 Biobase_2.62.0             \n",
       " [9] GenomicRanges_1.54.1        GenomeInfoDb_1.38.1        \n",
       "[11] IRanges_2.36.0              S4Vectors_0.40.2           \n",
       "[13] BiocGenerics_0.48.1         MatrixGenerics_1.14.0      \n",
       "[15] matrixStats_1.5.0           Seurat_5.0.1               \n",
       "[17] SeuratObject_5.0.0          sp_2.2-0                   \n",
       "\n",
       "loaded via a namespace (and not attached):\n",
       "  [1] RcppAnnoy_0.0.22          splines_4.3.1            \n",
       "  [3] later_1.4.2               pbdZMQ_0.3-14            \n",
       "  [5] bitops_1.0-9              R.oo_1.27.1              \n",
       "  [7] tibble_3.3.0              polyclip_1.10-7          \n",
       "  [9] fastDummies_1.7.5         lifecycle_1.0.4          \n",
       " [11] edgeR_4.0.16              globals_0.18.0           \n",
       " [13] lattice_0.22-7            MASS_7.3-60.0.1          \n",
       " [15] magrittr_2.0.3            limma_3.58.1             \n",
       " [17] plotly_4.11.0             metapod_1.10.0           \n",
       " [19] httpuv_1.6.15             sctransform_0.4.2        \n",
       " [21] spam_2.11-1               spatstat.sparse_3.1-0    \n",
       " [23] reticulate_1.42.0         cowplot_1.2.0            \n",
       " [25] pbapply_1.7-2             RColorBrewer_1.1-3       \n",
       " [27] abind_1.4-5               zlibbioc_1.48.0          \n",
       " [29] Rtsne_0.17                R.utils_2.13.0           \n",
       " [31] purrr_1.1.0               RCurl_1.98-1.16          \n",
       " [33] GenomeInfoDbData_1.2.11   ggrepel_0.9.6            \n",
       " [35] irlba_2.3.5.1             listenv_0.9.1            \n",
       " [37] spatstat.utils_3.1-4      goftest_1.2-3            \n",
       " [39] RSpectra_0.16-2           dqrng_0.3.2              \n",
       " [41] spatstat.random_3.4-1     fitdistrplus_1.2-4       \n",
       " [43] parallelly_1.45.0         DelayedMatrixStats_1.24.0\n",
       " [45] leiden_0.4.3.1            codetools_0.2-20         \n",
       " [47] DelayedArray_0.28.0       tidyselect_1.2.1         \n",
       " [49] farver_2.1.2              ScaledMatrix_1.10.0      \n",
       " [51] viridis_0.6.5             base64enc_0.1-3          \n",
       " [53] spatstat.explore_3.4-3    jsonlite_2.0.0           \n",
       " [55] BiocNeighbors_1.20.0      progressr_0.15.1         \n",
       " [57] ggridges_0.5.6            survival_3.8-3           \n",
       " [59] systemfonts_1.2.3         tools_4.3.1              \n",
       " [61] ragg_1.3.3                ica_1.0-3                \n",
       " [63] Rcpp_1.1.0                glue_1.8.0               \n",
       " [65] gridExtra_2.3             SparseArray_1.2.2        \n",
       " [67] IRdisplay_1.1             dplyr_1.1.4              \n",
       " [69] HDF5Array_1.30.0          withr_3.0.2              \n",
       " [71] fastmap_1.2.0             bluster_1.12.0           \n",
       " [73] rhdf5filters_1.14.1       digest_0.6.37            \n",
       " [75] rsvd_1.0.5                R6_2.6.1                 \n",
       " [77] mime_0.13                 textshaping_0.3.7        \n",
       " [79] colorspace_2.1-1          scattermore_1.2          \n",
       " [81] tensor_1.5.1              spatstat.data_3.1-6      \n",
       " [83] R.methodsS3_1.8.2         tidyr_1.3.1              \n",
       " [85] generics_0.1.4            data.table_1.17.6        \n",
       " [87] httr_1.4.7                htmlwidgets_1.6.4        \n",
       " [89] S4Arrays_1.2.0            uwot_0.2.3               \n",
       " [91] pkgconfig_2.0.3           gtable_0.3.6             \n",
       " [93] lmtest_0.9-40             XVector_0.42.0           \n",
       " [95] htmltools_0.5.8.1         dotCall64_1.2            \n",
       " [97] scales_1.4.0              png_0.1-8                \n",
       " [99] spatstat.univar_3.1-3     reshape2_1.4.4           \n",
       "[101] uuid_1.2-1                nlme_3.1-168             \n",
       "[103] repr_1.1.7                zoo_1.8-14               \n",
       "[105] rhdf5_2.46.1              stringr_1.5.1            \n",
       "[107] KernSmooth_2.23-26        parallel_4.3.1           \n",
       "[109] miniUI_0.1.2              vipor_0.4.7              \n",
       "[111] pillar_1.11.0             grid_4.3.1               \n",
       "[113] vctrs_0.6.5               RANN_2.6.2               \n",
       "[115] promises_1.3.2            BiocSingular_1.18.0      \n",
       "[117] beachmat_2.18.0           xtable_1.8-4             \n",
       "[119] cluster_2.1.8.1           beeswarm_0.4.0           \n",
       "[121] evaluate_1.0.4            locfit_1.5-9.12          \n",
       "[123] cli_3.6.5                 compiler_4.3.1           \n",
       "[125] rlang_1.1.6               crayon_1.5.3             \n",
       "[127] future.apply_1.20.0       plyr_1.8.9               \n",
       "[129] ggbeeswarm_0.7.2          stringi_1.8.4            \n",
       "[131] viridisLite_0.4.2         deldir_2.0-4             \n",
       "[133] BiocParallel_1.36.0       lazyeval_0.2.2           \n",
       "[135] spatstat.geom_3.4-1       Matrix_1.6-1.1           \n",
       "[137] IRkernel_1.3.2            RcppHNSW_0.6.0           \n",
       "[139] patchwork_1.3.1           sparseMatrixStats_1.14.0 \n",
       "[141] future_1.58.0             Rhdf5lib_1.24.0          \n",
       "[143] statmod_1.5.0             shiny_1.11.1             \n",
       "[145] ROCR_1.0-11               igraph_2.0.3             "
      ]
     },
     "metadata": {},
     "output_type": "display_data"
    }
   ],
   "source": [
    "sessionInfo()"
   ]
  }
 ],
 "metadata": {
  "kernelspec": {
   "display_name": "R",
   "language": "R",
   "name": "ir"
  },
  "language_info": {
   "codemirror_mode": "r",
   "file_extension": ".r",
   "mimetype": "text/x-r-source",
   "name": "R",
   "pygments_lexer": "r",
   "version": "4.3.1"
  }
 },
 "nbformat": 4,
 "nbformat_minor": 5
}
